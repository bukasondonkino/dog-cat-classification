{
 "cells": [
  {
   "cell_type": "code",
   "execution_count": 36,
   "id": "b490b66b",
   "metadata": {},
   "outputs": [],
   "source": [
    "import tensorflow as tf\n",
    "from keras.preprocessing.image import ImageDataGenerator"
   ]
  },
  {
   "cell_type": "code",
   "execution_count": 37,
   "id": "c5190182",
   "metadata": {},
   "outputs": [],
   "source": [
    "train_datagen = ImageDataGenerator(rescale = 1./255,\n",
    "                                   shear_range = 0.2,\n",
    "                                   zoom_range = 0.2,\n",
    "                                   horizontal_flip = True)"
   ]
  },
  {
   "cell_type": "code",
   "execution_count": 38,
   "id": "efcb2535",
   "metadata": {},
   "outputs": [
    {
     "name": "stdout",
     "output_type": "stream",
     "text": [
      "Found 7999 images belonging to 2 classes.\n"
     ]
    }
   ],
   "source": [
    "training_set = train_datagen.flow_from_directory('training_set',\n",
    "                                                 target_size = (64, 64),\n",
    "                                                 batch_size = 32,\n",
    "                                                 class_mode = 'binary')"
   ]
  },
  {
   "cell_type": "code",
   "execution_count": 39,
   "id": "e7d819b8",
   "metadata": {},
   "outputs": [
    {
     "name": "stdout",
     "output_type": "stream",
     "text": [
      "Found 2000 images belonging to 2 classes.\n"
     ]
    }
   ],
   "source": [
    "test_datagen = ImageDataGenerator(rescale = 1./255)\n",
    "test_set = test_datagen.flow_from_directory('test_set',\n",
    "                                            target_size = (64, 64),\n",
    "                                            batch_size = 32,\n",
    "                                            class_mode = 'binary')"
   ]
  },
  {
   "cell_type": "code",
   "execution_count": 40,
   "id": "01be6985",
   "metadata": {},
   "outputs": [],
   "source": [
    "cnn = tf.keras.models.Sequential()"
   ]
  },
  {
   "cell_type": "code",
   "execution_count": 41,
   "id": "39d6f9a9",
   "metadata": {},
   "outputs": [],
   "source": [
    "cnn.add(tf.keras.layers.Conv2D(filters = 32, kernel_size=3, activation=\"relu\", input_shape=[64, 64, 3]))"
   ]
  },
  {
   "cell_type": "code",
   "execution_count": 42,
   "id": "cd60ab63",
   "metadata": {},
   "outputs": [],
   "source": [
    "cnn.add(tf.keras.layers.MaxPool2D(pool_size=2, strides=2))"
   ]
  },
  {
   "cell_type": "code",
   "execution_count": 43,
   "id": "63523e6e",
   "metadata": {},
   "outputs": [],
   "source": [
    "cnn.add(tf.keras.layers.Conv2D(filters = 32, kernel_size=3, activation=\"relu\"))\n",
    "cnn.add(tf.keras.layers.MaxPool2D(pool_size=2, strides=2))"
   ]
  },
  {
   "cell_type": "code",
   "execution_count": 44,
   "id": "34826e98",
   "metadata": {},
   "outputs": [],
   "source": [
    "cnn.add(tf.keras.layers.Flatten())"
   ]
  },
  {
   "cell_type": "code",
   "execution_count": 45,
   "id": "79274cb5",
   "metadata": {},
   "outputs": [],
   "source": [
    "cnn.add(tf.keras.layers.Dense(units= 128, activation=\"relu\"))"
   ]
  },
  {
   "cell_type": "code",
   "execution_count": 46,
   "id": "7faea6de",
   "metadata": {},
   "outputs": [],
   "source": [
    "cnn.add(tf.keras.layers.Dense(units= 1, activation=\"sigmoid\"))"
   ]
  },
  {
   "cell_type": "code",
   "execution_count": 47,
   "id": "f2c0463d",
   "metadata": {},
   "outputs": [],
   "source": [
    "cnn.compile(optimizer = 'adam', loss = 'binary_crossentropy', metrics = ['accuracy'])"
   ]
  },
  {
   "cell_type": "code",
   "execution_count": 48,
   "id": "c9301e4d",
   "metadata": {},
   "outputs": [
    {
     "name": "stdout",
     "output_type": "stream",
     "text": [
      "Epoch 1/25\n",
      "250/250 [==============================] - 44s 173ms/step - loss: 0.6587 - accuracy: 0.5966 - val_loss: 0.6035 - val_accuracy: 0.6805\n",
      "Epoch 2/25\n",
      "250/250 [==============================] - 63s 253ms/step - loss: 0.5799 - accuracy: 0.6915 - val_loss: 0.5636 - val_accuracy: 0.7075\n",
      "Epoch 3/25\n",
      "250/250 [==============================] - 62s 248ms/step - loss: 0.5471 - accuracy: 0.7272 - val_loss: 0.5126 - val_accuracy: 0.7590\n",
      "Epoch 4/25\n",
      "250/250 [==============================] - 56s 223ms/step - loss: 0.5135 - accuracy: 0.7508 - val_loss: 0.5093 - val_accuracy: 0.7565\n",
      "Epoch 5/25\n",
      "250/250 [==============================] - 61s 244ms/step - loss: 0.4950 - accuracy: 0.7620 - val_loss: 0.4873 - val_accuracy: 0.7635\n",
      "Epoch 6/25\n",
      "250/250 [==============================] - 54s 218ms/step - loss: 0.4673 - accuracy: 0.7811 - val_loss: 0.4752 - val_accuracy: 0.7665\n",
      "Epoch 7/25\n",
      "250/250 [==============================] - 52s 209ms/step - loss: 0.4642 - accuracy: 0.7753 - val_loss: 0.5438 - val_accuracy: 0.7320\n",
      "Epoch 8/25\n",
      "250/250 [==============================] - 47s 190ms/step - loss: 0.4514 - accuracy: 0.7906 - val_loss: 0.4649 - val_accuracy: 0.7720\n",
      "Epoch 9/25\n",
      "250/250 [==============================] - 51s 205ms/step - loss: 0.4387 - accuracy: 0.7976 - val_loss: 0.4430 - val_accuracy: 0.7890\n",
      "Epoch 10/25\n",
      "250/250 [==============================] - 50s 199ms/step - loss: 0.4204 - accuracy: 0.8044 - val_loss: 0.4888 - val_accuracy: 0.7705\n",
      "Epoch 11/25\n",
      "250/250 [==============================] - 54s 216ms/step - loss: 0.4054 - accuracy: 0.8100 - val_loss: 0.4482 - val_accuracy: 0.7975\n",
      "Epoch 12/25\n",
      "250/250 [==============================] - 57s 226ms/step - loss: 0.4083 - accuracy: 0.8119 - val_loss: 0.4429 - val_accuracy: 0.7985\n",
      "Epoch 13/25\n",
      "250/250 [==============================] - 59s 236ms/step - loss: 0.3893 - accuracy: 0.8239 - val_loss: 0.5131 - val_accuracy: 0.7600\n",
      "Epoch 14/25\n",
      "250/250 [==============================] - 52s 210ms/step - loss: 0.3845 - accuracy: 0.8202 - val_loss: 0.4424 - val_accuracy: 0.7905\n",
      "Epoch 15/25\n",
      "250/250 [==============================] - 47s 188ms/step - loss: 0.3830 - accuracy: 0.8276 - val_loss: 0.4500 - val_accuracy: 0.7900\n",
      "Epoch 16/25\n",
      "250/250 [==============================] - 55s 220ms/step - loss: 0.3688 - accuracy: 0.8377 - val_loss: 0.4287 - val_accuracy: 0.8105\n",
      "Epoch 17/25\n",
      "250/250 [==============================] - 66s 264ms/step - loss: 0.3721 - accuracy: 0.8272 - val_loss: 0.4431 - val_accuracy: 0.8025\n",
      "Epoch 18/25\n",
      "250/250 [==============================] - 57s 227ms/step - loss: 0.3609 - accuracy: 0.8377 - val_loss: 0.4271 - val_accuracy: 0.8110\n",
      "Epoch 19/25\n",
      "250/250 [==============================] - 50s 200ms/step - loss: 0.3493 - accuracy: 0.8424 - val_loss: 0.4329 - val_accuracy: 0.8130\n",
      "Epoch 20/25\n",
      "250/250 [==============================] - 57s 230ms/step - loss: 0.3374 - accuracy: 0.8495 - val_loss: 0.4283 - val_accuracy: 0.8140\n",
      "Epoch 21/25\n",
      "250/250 [==============================] - 50s 200ms/step - loss: 0.3293 - accuracy: 0.8531 - val_loss: 0.4587 - val_accuracy: 0.7955\n",
      "Epoch 22/25\n",
      "250/250 [==============================] - 57s 226ms/step - loss: 0.3206 - accuracy: 0.8617 - val_loss: 0.5626 - val_accuracy: 0.7710\n",
      "Epoch 23/25\n",
      "250/250 [==============================] - 50s 199ms/step - loss: 0.3140 - accuracy: 0.8599 - val_loss: 0.4484 - val_accuracy: 0.8110\n",
      "Epoch 24/25\n",
      "250/250 [==============================] - 58s 232ms/step - loss: 0.3136 - accuracy: 0.8639 - val_loss: 0.4867 - val_accuracy: 0.7940\n",
      "Epoch 25/25\n",
      "250/250 [==============================] - 60s 241ms/step - loss: 0.2918 - accuracy: 0.8737 - val_loss: 0.4599 - val_accuracy: 0.7995\n"
     ]
    },
    {
     "data": {
      "text/plain": [
       "<keras.src.callbacks.History at 0x1e298a25040>"
      ]
     },
     "execution_count": 48,
     "metadata": {},
     "output_type": "execute_result"
    }
   ],
   "source": [
    "cnn.fit(x = training_set, validation_data= test_set, epochs=25)"
   ]
  },
  {
   "cell_type": "code",
   "execution_count": 51,
   "id": "b362748b",
   "metadata": {},
   "outputs": [
    {
     "name": "stdout",
     "output_type": "stream",
     "text": [
      "1/1 [==============================] - 0s 19ms/step\n"
     ]
    }
   ],
   "source": [
    "import numpy as np\n",
    "from keras.preprocessing import image\n",
    "test_image = image.load_img(\"single_prediction/cat_or_dog_1.jpg\", target_size = (64, 64))\n",
    "test_image = image.img_to_array(test_image)\n",
    "test_image = np.expand_dims(test_image, axis = 0)\n",
    "result = cnn.predict(test_image)\n",
    "training_set.class_indices\n",
    "if result[0][0] == 1:\n",
    "    prediction = 'dog'\n",
    "else:\n",
    "    prediction = 'cat'\n",
    "  "
   ]
  },
  {
   "cell_type": "code",
   "execution_count": 52,
   "id": "a5ed582b",
   "metadata": {},
   "outputs": [
    {
     "name": "stdout",
     "output_type": "stream",
     "text": [
      "dog\n"
     ]
    }
   ],
   "source": [
    "print(prediction)"
   ]
  },
  {
   "cell_type": "code",
   "execution_count": null,
   "id": "d453d15c",
   "metadata": {},
   "outputs": [],
   "source": []
  }
 ],
 "metadata": {
  "kernelspec": {
   "display_name": "Python 3 (ipykernel)",
   "language": "python",
   "name": "python3"
  },
  "language_info": {
   "codemirror_mode": {
    "name": "ipython",
    "version": 3
   },
   "file_extension": ".py",
   "mimetype": "text/x-python",
   "name": "python",
   "nbconvert_exporter": "python",
   "pygments_lexer": "ipython3",
   "version": "3.9.13"
  }
 },
 "nbformat": 4,
 "nbformat_minor": 5
}
